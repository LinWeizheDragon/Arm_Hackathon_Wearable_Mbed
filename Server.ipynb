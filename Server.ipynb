{
 "cells": [
  {
   "cell_type": "code",
   "execution_count": null,
   "metadata": {
    "ExecuteTime": {
     "start_time": "2017-11-25T12:41:41.557Z"
    }
   },
   "outputs": [
    {
     "name": "stdout",
     "output_type": "stream",
     "text": [
      "HTTP server running on port 8080\n",
      "Your IP address is:  10.25.2.158\n"
     ]
    },
    {
     "name": "stderr",
     "output_type": "stream",
     "text": [
      "10.25.1.207 - - [25/Nov/2017 12:44:48] \"GET / HTTP/1.1\" 200 -\n",
      "10.25.1.207 - - [25/Nov/2017 12:44:50] \"PUT / HTTP/1.1\" 200 -\n",
      "10.25.1.207 - - [25/Nov/2017 12:44:50] \"GET / HTTP/1.1\" 200 -\n",
      "10.25.1.207 - - [25/Nov/2017 12:44:52] \"PUT / HTTP/1.1\" 200 -\n",
      "10.25.1.207 - - [25/Nov/2017 12:44:53] \"GET / HTTP/1.1\" 200 -\n",
      "10.25.1.207 - - [25/Nov/2017 12:44:55] \"PUT / HTTP/1.1\" 200 -\n",
      "10.25.1.207 - - [25/Nov/2017 12:44:57] \"GET / HTTP/1.1\" 200 -\n",
      "10.25.1.207 - - [25/Nov/2017 12:44:59] \"PUT / HTTP/1.1\" 200 -\n",
      "10.25.1.207 - - [25/Nov/2017 12:44:59] \"GET / HTTP/1.1\" 200 -\n",
      "10.25.1.207 - - [25/Nov/2017 12:45:01] \"PUT / HTTP/1.1\" 200 -\n",
      "10.25.1.207 - - [25/Nov/2017 12:45:07] \"GET / HTTP/1.1\" 200 -\n",
      "10.25.1.207 - - [25/Nov/2017 12:45:10] \"PUT / HTTP/1.1\" 200 -\n",
      "10.25.1.207 - - [25/Nov/2017 12:45:10] \"GET / HTTP/1.1\" 200 -\n",
      "10.25.1.207 - - [25/Nov/2017 12:45:12] \"PUT / HTTP/1.1\" 200 -\n",
      "10.25.1.207 - - [25/Nov/2017 12:45:15] \"GET / HTTP/1.1\" 200 -\n",
      "10.25.1.207 - - [25/Nov/2017 12:45:18] \"PUT / HTTP/1.1\" 200 -\n",
      "10.25.1.207 - - [25/Nov/2017 12:45:19] \"GET / HTTP/1.1\" 200 -\n",
      "10.25.1.207 - - [25/Nov/2017 12:45:21] \"PUT / HTTP/1.1\" 200 -\n",
      "10.25.1.207 - - [25/Nov/2017 12:45:23] \"GET / HTTP/1.1\" 200 -\n",
      "10.25.1.207 - - [25/Nov/2017 12:45:25] \"PUT / HTTP/1.1\" 200 -\n",
      "10.25.1.207 - - [25/Nov/2017 12:45:36] \"GET / HTTP/1.1\" 200 -\n",
      "10.25.1.207 - - [25/Nov/2017 12:45:39] \"PUT / HTTP/1.1\" 200 -\n"
     ]
    }
   ],
   "source": [
    "from http.server import BaseHTTPRequestHandler, HTTPServer\n",
    "import socket\n",
    " \n",
    "class MyHandler(BaseHTTPRequestHandler):\n",
    "    def do_POST(self):\n",
    "        content = b\"POST: Hello, Mbed!\"\n",
    "        self.send_response(200)\n",
    "        self.send_header('Content-type', 'text/plain')\n",
    "        self.send_header('Content-Length', len(content))\n",
    "        self.end_headers()\n",
    "        self.wfile.write(content)\n",
    "        return\n",
    "\n",
    "    def do_GET(self):\n",
    "        content = b\"GET: Hello, Mbed!\"\n",
    "        self.send_response(200)\n",
    "        self.send_header('Content-type', 'text/plain')\n",
    "        self.send_header('Content-Length', len(content))\n",
    "        self.end_headers()\n",
    "        self.wfile.write(content)\n",
    "        return\n",
    " \n",
    "    def do_PUT(self):\n",
    "        content = b\"PUT: Hello, Mbed!\"\n",
    "        self.send_response(200)\n",
    "        self.send_header('Content-type', 'text/plain')\n",
    "        self.send_header('Content-Length', len(content))\n",
    "        self.end_headers()\n",
    "        self.wfile.write(content)\n",
    "        return\n",
    "\n",
    "def run():\n",
    "    httpd = HTTPServer(('', 8080), MyHandler)\n",
    "    print(\"HTTP server running on port 8080\")\n",
    "    print(\"Your IP address is: \", socket.gethostbyname(socket.gethostname()))\n",
    "    httpd.serve_forever()\n",
    " \n",
    "if __name__ == '__main__':\n",
    "    run()"
   ]
  },
  {
   "cell_type": "code",
   "execution_count": null,
   "metadata": {},
   "outputs": [],
   "source": []
  }
 ],
 "metadata": {
  "kernelspec": {
   "display_name": "tensorflow",
   "language": "python",
   "name": "tensorflow"
  },
  "language_info": {
   "codemirror_mode": {
    "name": "ipython",
    "version": 3
   },
   "file_extension": ".py",
   "mimetype": "text/x-python",
   "name": "python",
   "nbconvert_exporter": "python",
   "pygments_lexer": "ipython3",
   "version": "3.5.4"
  },
  "varInspector": {
   "cols": {
    "lenName": 16,
    "lenType": 16,
    "lenVar": 40
   },
   "kernels_config": {
    "python": {
     "delete_cmd_postfix": "",
     "delete_cmd_prefix": "del ",
     "library": "var_list.py",
     "varRefreshCmd": "print(var_dic_list())"
    },
    "r": {
     "delete_cmd_postfix": ") ",
     "delete_cmd_prefix": "rm(",
     "library": "var_list.r",
     "varRefreshCmd": "cat(var_dic_list()) "
    }
   },
   "oldHeight": 122,
   "position": {
    "height": "40px",
    "left": "1410px",
    "right": "20px",
    "top": "120px",
    "width": "250px"
   },
   "types_to_exclude": [
    "module",
    "function",
    "builtin_function_or_method",
    "instance",
    "_Feature"
   ],
   "varInspector_section_display": "none",
   "window_display": true
  }
 },
 "nbformat": 4,
 "nbformat_minor": 2
}
